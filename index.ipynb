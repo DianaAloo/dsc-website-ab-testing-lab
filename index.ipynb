{
 "cells": [
  {
   "cell_type": "markdown",
   "metadata": {},
   "source": [
    "# Website A/B Testing - Lab\n",
    "\n",
    "## Introduction\n",
    "\n",
    "In this lab, you'll get another chance to practice your skills at conducting a full A/B test analysis. It will also be a chance to practice your data exploration and processing skills! The scenario you'll be investigating is data collected from the homepage of a music app page for audacity.\n",
    "\n",
    "## Objectives\n",
    "\n",
    "You will be able to:\n",
    "* Analyze the data from a website A/B test to draw relevant conclusions\n",
    "* Explore and analyze web action data"
   ]
  },
  {
   "cell_type": "markdown",
   "metadata": {},
   "source": [
    "## Exploratory Analysis\n",
    "\n",
    "Start by loading in the dataset stored in the file 'homepage_actions.csv'. Then conduct an exploratory analysis to get familiar with the data."
   ]
  },
  {
   "cell_type": "markdown",
   "metadata": {},
   "source": [
    "> Hints:\n",
    "    * Start investigating the id column:\n",
    "        * How many viewers also clicked?\n",
    "        * Are there any anomalies with the data; did anyone click who didn't view?\n",
    "        * Is there any overlap between the control and experiment groups? \n",
    "            * If so, how do you plan to account for this in your experimental design?"
   ]
  },
  {
   "cell_type": "code",
   "execution_count": 1,
   "metadata": {},
   "outputs": [
    {
     "name": "stdout",
     "output_type": "stream",
     "text": [
      "(8188, 4)\n",
      "                    timestamp      id       group action\n",
      "0  2016-09-24 17:42:27.839496  804196  experiment   view\n",
      "1  2016-09-24 19:19:03.542569  434745  experiment   view\n",
      "2  2016-09-24 19:36:00.944135  507599  experiment   view\n",
      "3  2016-09-24 19:59:02.646620  671993     control   view\n",
      "4  2016-09-24 20:26:14.466886  536734  experiment   view\n",
      "Unique users: 6328\n",
      "Users who both viewed and clicked: 1860\n",
      "Users who clicked but did not view: 0\n",
      "Users in both control & experiment groups: 0\n"
     ]
    }
   ],
   "source": [
    "#Your code here\n",
    "import pandas as pd\n",
    "\n",
    "df = pd.read_csv(\"homepage_actions.csv\")\n",
    "print(df.shape)\n",
    "print(df.head())\n",
    "\n",
    "print(\"Unique users:\", df[\"id\"].nunique())\n",
    "\n",
    "viewers = set(df[df[\"action\"] == \"view\"][\"id\"])\n",
    "clickers = set(df[df[\"action\"] == \"click\"][\"id\"])\n",
    "\n",
    "print(\"Users who both viewed and clicked:\", len(viewers & clickers))\n",
    "print(\"Users who clicked but did not view:\", len(clickers - viewers))\n",
    "\n",
    "control_users = set(df[df[\"group\"] == \"control\"][\"id\"])\n",
    "experiment_users = set(df[df[\"group\"] == \"experiment\"][\"id\"])\n",
    "\n",
    "print(\"Users in both control & experiment groups:\", len(control_users & experiment_users))\n"
   ]
  },
  {
   "cell_type": "markdown",
   "metadata": {},
   "source": [
    "## Conduct a Statistical Test\n",
    "\n",
    "Conduct a statistical test to determine whether the experimental homepage was more effective than that of the control group."
   ]
  },
  {
   "cell_type": "code",
   "execution_count": 2,
   "metadata": {},
   "outputs": [
    {
     "name": "stdout",
     "output_type": "stream",
     "text": [
      "Z-statistic: 2.618563885349469\n",
      "p-value: 0.008830075576595804\n"
     ]
    }
   ],
   "source": [
    "#Your code here\n",
    "import numpy as np\n",
    "from statsmodels.stats.proportion import proportions_ztest\n",
    "\n",
    "control_clicks = df[(df[\"group\"] == \"control\") & (df[\"action\"] == \"click\")][\"id\"].nunique()\n",
    "experiment_clicks = df[(df[\"group\"] == \"experiment\") & (df[\"action\"] == \"click\")][\"id\"].nunique()\n",
    "\n",
    "control_total = df[df[\"group\"] == \"control\"][\"id\"].nunique()\n",
    "experiment_total = df[df[\"group\"] == \"experiment\"][\"id\"].nunique()\n",
    "\n",
    "count = np.array([experiment_clicks, control_clicks])\n",
    "nobs = np.array([experiment_total, control_total])\n",
    "\n",
    "z_stat, p_val = proportions_ztest(count, nobs)\n",
    "print(\"Z-statistic:\", z_stat)\n",
    "print(\"p-value:\", p_val)\n"
   ]
  },
  {
   "cell_type": "markdown",
   "metadata": {},
   "source": [
    "## Verifying Results\n",
    "\n",
    "One sensible formulation of the data to answer the hypothesis test above would be to create a binary variable representing each individual in the experiment and control group. This binary variable would represent whether or not that individual clicked on the homepage; 1 for they did and 0 if they did not. \n",
    "\n",
    "The variance for the number of successes in a sample of a binomial variable with n observations is given by:\n",
    "\n",
    "## $n\\bullet p (1-p)$\n",
    "\n",
    "Given this, perform 3 steps to verify the results of your statistical test:\n",
    "1. Calculate the expected number of clicks for the experiment group, if it had the same click-through rate as that of the control group. \n",
    "2. Calculate the number of standard deviations that the actual number of clicks was from this estimate. \n",
    "3. Finally, calculate a p-value using the normal distribution based on this z-score."
   ]
  },
  {
   "cell_type": "markdown",
   "metadata": {},
   "source": [
    "### Step 1:\n",
    "Calculate the expected number of clicks for the experiment group, if it had the same click-through rate as that of the control group. "
   ]
  },
  {
   "cell_type": "code",
   "execution_count": 3,
   "metadata": {},
   "outputs": [
    {
     "name": "stdout",
     "output_type": "stream",
     "text": [
      "Expected experiment clicks (if same rate as control): 838.0168067226891\n",
      "Actual experiment clicks: 928\n"
     ]
    }
   ],
   "source": [
    "#Your code here\n",
    "control_ctr = control_clicks / control_total\n",
    "expected_experiment_clicks = experiment_total * control_ctr\n",
    "print(\"Expected experiment clicks (if same rate as control):\", expected_experiment_clicks)\n",
    "print(\"Actual experiment clicks:\", experiment_clicks)\n"
   ]
  },
  {
   "cell_type": "markdown",
   "metadata": {},
   "source": [
    "### Step 2:\n",
    "Calculate the number of standard deviations that the actual number of clicks was from this estimate."
   ]
  },
  {
   "cell_type": "code",
   "execution_count": 4,
   "metadata": {},
   "outputs": [
    {
     "name": "stdout",
     "output_type": "stream",
     "text": [
      "Z-score: 3.6625360854823588\n"
     ]
    }
   ],
   "source": [
    "#Your code here\n",
    "std_dev = np.sqrt(experiment_total * control_ctr * (1 - control_ctr))\n",
    "z_score = (experiment_clicks - expected_experiment_clicks) / std_dev\n",
    "print(\"Z-score:\", z_score)\n"
   ]
  },
  {
   "cell_type": "markdown",
   "metadata": {},
   "source": [
    "### Step 3: \n",
    "Finally, calculate a p-value using the normal distribution based on this z-score."
   ]
  },
  {
   "cell_type": "code",
   "execution_count": 5,
   "metadata": {},
   "outputs": [
    {
     "name": "stdout",
     "output_type": "stream",
     "text": [
      "P-value: 0.00012486528006949715\n",
      "P-value: 0.00012486528006949715\n"
     ]
    }
   ],
   "source": [
    "#Your code here\n",
    "from scipy.stats import norm\n",
    "\n",
    "p_value = 1 - norm.cdf(z_score)\n",
    "print(\"P-value:\", p_value)\n",
    "from scipy.stats import norm\n",
    "\n",
    "p_value = 1 - norm.cdf(z_score)\n",
    "print(\"P-value:\", p_value)\n"
   ]
  },
  {
   "cell_type": "markdown",
   "metadata": {},
   "source": [
    "### Analysis:\n",
    "\n",
    "Does this result roughly match that of the previous statistical test?\n",
    "\n",
    "> Comment: **Your analysis here**\n",
    "The results from this verification method closely match the outcome of the earlier two-proportion z-test. Both approaches yield a statistically significant result, with a very small p-value (< 0.05), indicating that the experimental homepage led to a higher click-through rate compared to the control. Therefore, we can confidently conclude that the experimental homepage was more effective."
   ]
  },
  {
   "cell_type": "markdown",
   "metadata": {},
   "source": [
    "## Summary\n",
    "\n",
    "In this lab, you continued to get more practice designing and conducting AB tests. This required additional work preprocessing and formulating the initial problem in a suitable manner. Additionally, you also saw how to verify results, strengthening your knowledge of binomial variables, and reviewing initial statistical concepts of the central limit theorem, standard deviation, z-scores, and their accompanying p-values."
   ]
  }
 ],
 "metadata": {
  "kernelspec": {
   "display_name": "Python 3",
   "language": "python",
   "name": "python3"
  },
  "language_info": {
   "codemirror_mode": {
    "name": "ipython",
    "version": 3
   },
   "file_extension": ".py",
   "mimetype": "text/x-python",
   "name": "python",
   "nbconvert_exporter": "python",
   "pygments_lexer": "ipython3",
   "version": "3.8.5"
  }
 },
 "nbformat": 4,
 "nbformat_minor": 2
}
